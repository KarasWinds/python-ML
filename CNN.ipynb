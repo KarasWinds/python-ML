{
 "cells": [
  {
   "cell_type": "code",
   "execution_count": 1,
   "metadata": {},
   "outputs": [
    {
     "name": "stderr",
     "output_type": "stream",
     "text": [
      "Using TensorFlow backend.\n"
     ]
    }
   ],
   "source": [
    "from keras.datasets.cifar10 import load_data\n",
    "(x_train, y_train), (x_test, y_test) = load_data()"
   ]
  },
  {
   "cell_type": "code",
   "execution_count": 2,
   "metadata": {},
   "outputs": [
    {
     "name": "stdout",
     "output_type": "stream",
     "text": [
      "(50000, 32, 32, 3)\n",
      "(10000, 32, 32, 3)\n"
     ]
    }
   ],
   "source": [
    "print(x_train.shape)\n",
    "print(x_test.shape)"
   ]
  },
  {
   "cell_type": "code",
   "execution_count": 3,
   "metadata": {},
   "outputs": [],
   "source": [
    "lable = [\"飛機\", \"汽車\", \"鳥\", \"貓\", \"鹿\", \"狗\", \"青蛙\", \"馬\", \"船\", \"卡車\"]"
   ]
  },
  {
   "cell_type": "code",
   "execution_count": 4,
   "metadata": {},
   "outputs": [
    {
     "name": "stdout",
     "output_type": "stream",
     "text": [
      "船\n"
     ]
    },
    {
     "data": {
      "text/plain": [
       "<matplotlib.image.AxesImage at 0x2e33d040518>"
      ]
     },
     "execution_count": 4,
     "metadata": {},
     "output_type": "execute_result"
    },
    {
     "data": {
      "image/png": "[encoded data removed]",
      "text/plain": [
       "<Figure size 432x288 with 1 Axes>"
      ]
     },
     "metadata": {
      "needs_background": "light"
     },
     "output_type": "display_data"
    }
   ],
   "source": [
    "import random\n",
    "import matplotlib.pyplot as plt\n",
    "%matplotlib inline\n",
    "c = random.randint(0, 49999)\n",
    "print(lable[y_train[c][0]])\n",
    "plt.imshow(x_train[c])"
   ]
  },
  {
   "cell_type": "code",
   "execution_count": 5,
   "metadata": {},
   "outputs": [
    {
     "data": {
      "text/plain": [
       "array([0., 0., 0., 0., 0., 0., 1., 0., 0., 0.], dtype=float32)"
      ]
     },
     "execution_count": 5,
     "metadata": {},
     "output_type": "execute_result"
    }
   ],
   "source": [
    "x_train_shape = x_train / 255\n",
    "x_test_shape = x_test / 255\n",
    "# y進去的時候要one-hot encoding 3 -> [0, 0, 0, 1, 0, 0, 0, 0, 0, 0]\n",
    "from keras.utils.np_utils import to_categorical\n",
    "y_train_cat = to_categorical(y_train)\n",
    "y_test_cat = to_categorical(y_test)\n",
    "# Demo\n",
    "y_train_cat[0]"
   ]
  },
  {
   "cell_type": "code",
   "execution_count": 6,
   "metadata": {
    "collapsed": true
   },
   "outputs": [
    {
     "name": "stdout",
     "output_type": "stream",
     "text": [
      "_________________________________________________________________\n",
      "Layer (type)                 Output Shape              Param #   \n",
      "=================================================================\n",
      "conv2d_1 (Conv2D)            (None, 32, 32, 32)        896       \n",
      "_________________________________________________________________\n",
      "max_pooling2d_1 (MaxPooling2 (None, 16, 16, 32)        0         \n",
      "_________________________________________________________________\n",
      "conv2d_2 (Conv2D)            (None, 16, 16, 64)        18496     \n",
      "_________________________________________________________________\n",
      "max_pooling2d_2 (MaxPooling2 (None, 8, 8, 64)          0         \n",
      "_________________________________________________________________\n",
      "conv2d_3 (Conv2D)            (None, 8, 8, 128)         73856     \n",
      "_________________________________________________________________\n",
      "max_pooling2d_3 (MaxPooling2 (None, 4, 4, 128)         0         \n",
      "_________________________________________________________________\n",
      "flatten_1 (Flatten)          (None, 2048)              0         \n",
      "_________________________________________________________________\n",
      "dense_1 (Dense)              (None, 256)               524544    \n",
      "_________________________________________________________________\n",
      "dense_2 (Dense)              (None, 10)                2570      \n",
      "=================================================================\n",
      "Total params: 620,362\n",
      "Trainable params: 620,362\n",
      "Non-trainable params: 0\n",
      "_________________________________________________________________\n"
     ]
    }
   ],
   "source": [
    "from keras.models import Sequential\n",
    "from keras.layers import Conv2D, MaxPooling2D, Dense\n",
    "from keras.layers import Flatten\n",
    "cnn = Sequential()\n",
    "# 9(格子) * 3(RGB) * 32(filters) + 32(bias)\n",
    "cnn.add(Conv2D(32, (3, 3),\n",
    "               activation=\"relu\",\n",
    "               padding=\"same\",\n",
    "               input_shape=(32, 32, 3)))\n",
    "cnn.add(MaxPooling2D(pool_size=(2, 2)))\n",
    "# 9 * 32(上一層特徵) * 64 + 64\n",
    "cnn.add(Conv2D(64, (3, 3),\n",
    "               activation=\"relu\",\n",
    "               padding=\"same\"))\n",
    "cnn.add(MaxPooling2D(pool_size=(2, 2)))\n",
    "# 9 * 32(上一層特徵) * 64 + 64\n",
    "cnn.add(Conv2D(128, (3, 3),\n",
    "               activation=\"relu\",\n",
    "               padding=\"same\"))\n",
    "cnn.add(MaxPooling2D(pool_size=(2, 2)))\n",
    "# MLP(大腦)\n",
    "cnn.add(Flatten())\n",
    "cnn.add(Dense(256, activation=\"relu\"))\n",
    "cnn.add(Dense(10, activation=\"softmax\"))\n",
    "cnn.summary()"
   ]
  },
  {
   "cell_type": "code",
   "execution_count": 7,
   "metadata": {},
   "outputs": [],
   "source": [
    "cnn.compile(loss=\"categorical_crossentropy\", optimizer=\"adam\", metrics=[\"accuracy\"])"
   ]
  },
  {
   "cell_type": "code",
   "execution_count": 8,
   "metadata": {
    "collapsed": true
   },
   "outputs": [
    {
     "name": "stdout",
     "output_type": "stream",
     "text": [
      "Train on 45000 samples, validate on 5000 samples\n",
      "Epoch 1/10\n",
      "45000/45000 [==============================] - 63s 1ms/step - loss: 1.5834 - acc: 0.4281 - val_loss: 1.3065 - val_acc: 0.5414\n",
      "Epoch 2/10\n",
      "45000/45000 [==============================] - 64s 1ms/step - loss: 1.1693 - acc: 0.5885 - val_loss: 1.0497 - val_acc: 0.6372\n",
      "Epoch 3/10\n",
      "45000/45000 [==============================] - 64s 1ms/step - loss: 0.9937 - acc: 0.6538 - val_loss: 0.9609 - val_acc: 0.6694\n",
      "Epoch 4/10\n",
      "45000/45000 [==============================] - 64s 1ms/step - loss: 0.8854 - acc: 0.6908 - val_loss: 0.9262 - val_acc: 0.6754\n",
      "Epoch 5/10\n",
      "45000/45000 [==============================] - 63s 1ms/step - loss: 0.8061 - acc: 0.7218 - val_loss: 0.8471 - val_acc: 0.7136\n",
      "Epoch 6/10\n",
      "45000/45000 [==============================] - 63s 1ms/step - loss: 0.7343 - acc: 0.7470 - val_loss: 0.7915 - val_acc: 0.7304\n",
      "Epoch 7/10\n",
      "45000/45000 [==============================] - 62s 1ms/step - loss: 0.6653 - acc: 0.7724 - val_loss: 0.8241 - val_acc: 0.7174\n",
      "Epoch 8/10\n",
      "45000/45000 [==============================] - 64s 1ms/step - loss: 0.6169 - acc: 0.7856 - val_loss: 0.8009 - val_acc: 0.7312\n",
      "Epoch 9/10\n",
      "45000/45000 [==============================] - 63s 1ms/step - loss: 0.5578 - acc: 0.8076 - val_loss: 0.7676 - val_acc: 0.7476\n",
      "Epoch 10/10\n",
      "45000/45000 [==============================] - 62s 1ms/step - loss: 0.5037 - acc: 0.8258 - val_loss: 0.8199 - val_acc: 0.7240\n"
     ]
    },
    {
     "data": {
      "text/plain": [
       "<keras.callbacks.History at 0x2e33d09afd0>"
      ]
     },
     "execution_count": 8,
     "metadata": {},
     "output_type": "execute_result"
    }
   ],
   "source": [
    "cnn.fit(x_train_shape, y_train_cat, batch_size=200, epochs=10, validation_split=0.1)"
   ]
  },
  {
   "cell_type": "code",
   "execution_count": 9,
   "metadata": {},
   "outputs": [
    {
     "name": "stdout",
     "output_type": "stream",
     "text": [
      "10000/10000 [==============================] - 5s 550us/step\n"
     ]
    },
    {
     "data": {
      "text/plain": [
       "[0.8476099356651307, 0.7181]"
      ]
     },
     "execution_count": 9,
     "metadata": {},
     "output_type": "execute_result"
    }
   ],
   "source": [
    "cnn.evaluate(x_test_shape, y_test_cat)"
   ]
  },
  {
   "cell_type": "code",
   "execution_count": 10,
   "metadata": {},
   "outputs": [],
   "source": [
    "cnn.save(\"simplecnn.h5\")"
   ]
  },
  {
   "cell_type": "code",
   "execution_count": null,
   "metadata": {},
   "outputs": [],
   "source": [
    "# https://support.hdfgroup.org/products/java/release/download.html\n",
    "from keras.models import load_model\n",
    "old = load_model(\"simplecnn.h5\")\n",
    "old.evaluate(x_test_shape, y_test_cat)"
   ]
  },
  {
   "cell_type": "code",
   "execution_count": 13,
   "metadata": {},
   "outputs": [
    {
     "data": {
      "text/html": [
       "<div>\n",
       "<style scoped>\n",
       "    .dataframe tbody tr th:only-of-type {\n",
       "        vertical-align: middle;\n",
       "    }\n",
       "\n",
       "    .dataframe tbody tr th {\n",
       "        vertical-align: top;\n",
       "    }\n",
       "\n",
       "    .dataframe thead th {\n",
       "        text-align: right;\n",
       "    }\n",
       "</style>\n",
       "<table border=\"1\" class=\"dataframe\">\n",
       "  <thead>\n",
       "    <tr style=\"text-align: right;\">\n",
       "      <th></th>\n",
       "      <th>0</th>\n",
       "      <th>1</th>\n",
       "      <th>2</th>\n",
       "      <th>3</th>\n",
       "      <th>4</th>\n",
       "      <th>5</th>\n",
       "      <th>6</th>\n",
       "      <th>7</th>\n",
       "      <th>8</th>\n",
       "      <th>9</th>\n",
       "    </tr>\n",
       "  </thead>\n",
       "  <tbody>\n",
       "    <tr>\n",
       "      <th>0</th>\n",
       "      <td>886</td>\n",
       "      <td>20</td>\n",
       "      <td>48</td>\n",
       "      <td>4</td>\n",
       "      <td>7</td>\n",
       "      <td>7</td>\n",
       "      <td>1</td>\n",
       "      <td>5</td>\n",
       "      <td>14</td>\n",
       "      <td>8</td>\n",
       "    </tr>\n",
       "    <tr>\n",
       "      <th>1</th>\n",
       "      <td>32</td>\n",
       "      <td>914</td>\n",
       "      <td>5</td>\n",
       "      <td>7</td>\n",
       "      <td>1</td>\n",
       "      <td>3</td>\n",
       "      <td>7</td>\n",
       "      <td>2</td>\n",
       "      <td>6</td>\n",
       "      <td>23</td>\n",
       "    </tr>\n",
       "    <tr>\n",
       "      <th>2</th>\n",
       "      <td>76</td>\n",
       "      <td>9</td>\n",
       "      <td>780</td>\n",
       "      <td>27</td>\n",
       "      <td>26</td>\n",
       "      <td>33</td>\n",
       "      <td>23</td>\n",
       "      <td>20</td>\n",
       "      <td>4</td>\n",
       "      <td>2</td>\n",
       "    </tr>\n",
       "    <tr>\n",
       "      <th>3</th>\n",
       "      <td>54</td>\n",
       "      <td>19</td>\n",
       "      <td>149</td>\n",
       "      <td>510</td>\n",
       "      <td>39</td>\n",
       "      <td>143</td>\n",
       "      <td>49</td>\n",
       "      <td>23</td>\n",
       "      <td>9</td>\n",
       "      <td>5</td>\n",
       "    </tr>\n",
       "    <tr>\n",
       "      <th>4</th>\n",
       "      <td>57</td>\n",
       "      <td>10</td>\n",
       "      <td>190</td>\n",
       "      <td>46</td>\n",
       "      <td>555</td>\n",
       "      <td>31</td>\n",
       "      <td>47</td>\n",
       "      <td>57</td>\n",
       "      <td>4</td>\n",
       "      <td>3</td>\n",
       "    </tr>\n",
       "    <tr>\n",
       "      <th>5</th>\n",
       "      <td>35</td>\n",
       "      <td>13</td>\n",
       "      <td>129</td>\n",
       "      <td>144</td>\n",
       "      <td>29</td>\n",
       "      <td>587</td>\n",
       "      <td>16</td>\n",
       "      <td>36</td>\n",
       "      <td>8</td>\n",
       "      <td>3</td>\n",
       "    </tr>\n",
       "    <tr>\n",
       "      <th>6</th>\n",
       "      <td>19</td>\n",
       "      <td>9</td>\n",
       "      <td>104</td>\n",
       "      <td>43</td>\n",
       "      <td>12</td>\n",
       "      <td>23</td>\n",
       "      <td>781</td>\n",
       "      <td>4</td>\n",
       "      <td>2</td>\n",
       "      <td>3</td>\n",
       "    </tr>\n",
       "    <tr>\n",
       "      <th>7</th>\n",
       "      <td>36</td>\n",
       "      <td>8</td>\n",
       "      <td>71</td>\n",
       "      <td>32</td>\n",
       "      <td>28</td>\n",
       "      <td>43</td>\n",
       "      <td>4</td>\n",
       "      <td>771</td>\n",
       "      <td>1</td>\n",
       "      <td>6</td>\n",
       "    </tr>\n",
       "    <tr>\n",
       "      <th>8</th>\n",
       "      <td>141</td>\n",
       "      <td>66</td>\n",
       "      <td>23</td>\n",
       "      <td>10</td>\n",
       "      <td>3</td>\n",
       "      <td>6</td>\n",
       "      <td>1</td>\n",
       "      <td>2</td>\n",
       "      <td>737</td>\n",
       "      <td>11</td>\n",
       "    </tr>\n",
       "    <tr>\n",
       "      <th>9</th>\n",
       "      <td>79</td>\n",
       "      <td>177</td>\n",
       "      <td>28</td>\n",
       "      <td>16</td>\n",
       "      <td>1</td>\n",
       "      <td>6</td>\n",
       "      <td>4</td>\n",
       "      <td>12</td>\n",
       "      <td>17</td>\n",
       "      <td>660</td>\n",
       "    </tr>\n",
       "  </tbody>\n",
       "</table>\n",
       "</div>"
      ],
      "text/plain": [
       "     0    1    2    3    4    5    6    7    8    9\n",
       "0  886   20   48    4    7    7    1    5   14    8\n",
       "1   32  914    5    7    1    3    7    2    6   23\n",
       "2   76    9  780   27   26   33   23   20    4    2\n",
       "3   54   19  149  510   39  143   49   23    9    5\n",
       "4   57   10  190   46  555   31   47   57    4    3\n",
       "5   35   13  129  144   29  587   16   36    8    3\n",
       "6   19    9  104   43   12   23  781    4    2    3\n",
       "7   36    8   71   32   28   43    4  771    1    6\n",
       "8  141   66   23   10    3    6    1    2  737   11\n",
       "9   79  177   28   16    1    6    4   12   17  660"
      ]
     },
     "execution_count": 13,
     "metadata": {},
     "output_type": "execute_result"
    }
   ],
   "source": [
    "from sklearn.metrics import confusion_matrix\n",
    "import pandas as pd\n",
    "pd.DataFrame(confusion_matrix(y_test, cnn.predict_classes(x_test_shape)))"
   ]
  }
 ],
 "metadata": {
  "kernelspec": {
   "display_name": "Python 3",
   "language": "python",
   "name": "python3"
  },
  "language_info": {
   "codemirror_mode": {
    "name": "ipython",
    "version": 3
   },
   "file_extension": ".py",
   "mimetype": "text/x-python",
   "name": "python",
   "nbconvert_exporter": "python",
   "pygments_lexer": "ipython3",
   "version": "3.6.0"
  }
 },
 "nbformat": 4,
 "nbformat_minor": 2
}
